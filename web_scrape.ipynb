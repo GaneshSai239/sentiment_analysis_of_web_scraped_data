{
 "cells": [
  {
   "cell_type": "code",
   "execution_count": 12,
   "metadata": {},
   "outputs": [
    {
     "name": "stdout",
     "output_type": "stream",
     "text": [
      "[]\n"
     ]
    }
   ],
   "source": [
    "import requests\n",
    "from bs4 import BeautifulSoup\n",
    "\n",
    "# URL of the CNBC search page for green hydrogen\n",
    "url = 'https://www.cnbc.com/search/?query=green%20hydrogen&qsearchterm=green%20hydrogen'\n",
    "\n",
    "# Send a GET request to the URL\n",
    "response = requests.get(url)\n",
    "\n",
    "# Parse the HTML content\n",
    "soup = BeautifulSoup(response.text, 'html.parser')\n",
    "\n",
    "# Find headlines by inspecting the HTML structure of the website\n",
    "headlines = soup.find_all('a', class_='Card-title')\n",
    "\n",
    "# Extract text from headlines and print them\n",
    "for headline in headlines:\n",
    "    print(headline.text.strip())\n",
    "print(headlines)"
   ]
  },
  {
   "cell_type": "code",
   "execution_count": 10,
   "metadata": {},
   "outputs": [
    {
     "name": "stdout",
     "output_type": "stream",
     "text": [
      "IGX, Acme to develop green hydrogen, ammonia market in India | Mint - Mint\n",
      "A scalable photoelectrochemical system for green hydrogen production - Tech Xplore\n",
      "Hydrogen revenue jumps for world's biggest maker of shipping containers - ETEnergyWorld\n",
      "India Awards Tenders for 4.12 Lakh Tonnes of Green Hydrogen and 1500 MW Electrolyzer Manufacturing - SolarQuarter\n",
      "Karnataka government to facilitate development of green hydrogen capacity - Deccan Herald\n",
      "L&T, Matrix chosen for green hydrogen scheme after Jindal India pulls out | Mint - Mint\n",
      "Govt crafts policy to boost green hydrogen for round-the-clock renewable energy - ETEnergyWorld\n",
      "India Energy Week 2024 : क्या ग्रीन हाइड्रोजन बनेगा भारत के लिए गेम चेंजर? - The Economic Times Hindi\n",
      "ACME Group, IGX sign MoU to boost green hydrogen, ammonia market in India - ETEnergyWorld\n",
      "ACME Group, IGX tie up to explore collaborations for green hydrogen, ammonia projects - ETAuto\n",
      "'Green hydrogen is facing resistance in the developing world because almost all of it would be exported to rich ... - Hydrogen Insight\n",
      "India Weekly Updates: India's Solar Milestones: 50 GW Module, 6 GW Cell Capacity; Tata Power Lights Asia's Largest ... - SolarQuarter\n",
      "India unveils ambitious green hydrogen mission with tenders for production and electrolyzer manufacturing - Manufacturing Today India\n",
      "Uttar Pradesh Targets Green Hydrogen Revolution - Indian PSU\n",
      "Government releases guidelines, allocates Rs 455 crore for green hydrogen pilot projects in steel sector - Down To Earth Magazine\n",
      "Govt weighs use of green hydrogen for peak power generation - domain-b.com: The first online Indian business magazine\n",
      "Centre working to promote use of green hydrogen for providing round-the-clock green energy - IndiaTimes\n",
      "Govt devising policies to boost green hydrogen for round-the-clock RE - Business Standard\n",
      "Union Minister RK Singh chairs meeting on promoting green hydrogen use - DD News\n",
      "Uttar Pradesh’s Green Hydrogen Initiative Targets 1 million tonne capacity and 1.2 Lakh Jobs - Adda247\n",
      "Government unveils pilot projects harnessing Green Hydrogen for industrial transformation - Elets eGov - Elets\n",
      "India's Plans to Achieve Cost-Effective Green Hydrogen Production - India Briefing\n",
      "MNRE working on policy mechanism to promote green hydrogen for RTC renewable energy supply - Power Line ... - Power Line Magazine\n",
      "Press Information Bureau - PIB\n",
      "Govt allocates Rs 455 crore for green hydrogen pilot projects in steel sector - ETEnergyWorld\n",
      "Advait Infratech Limited Introduces India's First Green Hydrogen Microgrid at THDCIL, Rishikesh - CXOToday.com\n",
      "India Energy Week: Modi says nation set to become green hydrogen production, export hub - Moneycontrol\n",
      "India Aims for Global Green Hydrogen Leadership with R&D Push - Asia Pacific - Energetica India\n",
      "Wood selected as owner's engineer for world-leading green hydrogen project in Spain | Wood - Wood Group\n",
      "India's first green hydrogen fuel cell bus showcased during India Energy Week - Moneycontrol\n",
      "IGX and ACME Sign MoU on Developing Green Hydrogen and Ammonia Market in India - Asia Pacific - Energetica India\n",
      "Advancing India's Green Hydrogen Revolution | India's first News Website on Projects Investment - Projects Monitor\n",
      "IIPE in Visakhapatnam launches a pilot project to produce green hydrogen using NTPC’s desalinated water - The Hindu\n",
      "The Hydrogen Stream: India working on policy mechanism to promote use of green hydrogen for providing round-the ... - pv magazine India\n",
      "India Accelerates Green Hydrogen Mission with Major Tender Awards and Policy Rollouts - Asia Pacific - Energetica India\n",
      "MC Explainer: New guidelines, challenges for using green hydrogen in steel industry - Moneycontrol\n",
      "Hydrogen revenue jumps for world's biggest maker of shipping containers - The Economic Times\n",
      "Uttar Pradesh govt targets 1 million tonne capacity and 120,000 jobs - Business Standard\n",
      "Daily News Wrap-Up: MNRE to Implement Green Hydrogen in Steel Industry - Mercom India\n",
      "India considers Contract for Difference subsidy for green hydrogen power plants - Hydrogen Insight\n",
      "Lhyfe starts work on green hydrogen plant in German port | Hub-4 - Hub 4\n",
      "5 ways to make green hydrogen available around the world | World Economic Forum - World Economic Forum\n",
      "India plans green hydrogen pilot projects in shipping and steel - H2 View\n",
      "Italian Scientists Develop New System for Producing Green Hydrogen Cheaply and Efficiently - SciTechDaily\n",
      "Scaling up demand must for green H2 success: IEA - The Economic Times\n",
      "MNRE Launches Pilot Projects to Implement Green Hydrogen in Steel Industry - Mercom India\n",
      "Rs 11,500 crore outlay: Budget 2024 adds spark to wind & solar energy, green hydrogen projects - Business Today\n",
      "Driving Hydrogen Innovation: Vallourec and H2V Join Forces to Revolutionize Green Energy Storage and Production - SolarQuarter\n",
      "34 Companies Bid for Green Hydrogen Subsidies in India - India Briefing\n",
      "ReNew proposes to invest Rs 26,400 crore for green hydrogen project in Kerala - ETEnergyWorld\n",
      "Budget 2024: Rooftop solar, green hydrogen push — experts discuss initiatives to charge up renewable energy sector | Mint - Mint\n",
      "Large-scale green hydrogen projects don't make sense – Linde - gasworld\n",
      "Fostering Collaboration for Sustainable Energy: ACME Group and IGX Partner to Develop India's Green Hydrogen and ... - SolarQuarter\n",
      "Green Hydrogen Mission gets whopping 102% hike in allocation in Interim Budget - The Economic Times\n",
      "Government Initiates Plans to Promote Green Hydrogen for Round-the-Clock RE - Asia Pacific - Energetica India\n",
      "SCI Leads Green Hydrogen Initiative - Construction World\n",
      "Study unveils scalable and efficient photoelectrode modules for green hydrogen production - Tech Xplore\n",
      "MNRE Allocates CPSUs for Green Hydrogen Implementation - Construction World\n",
      "Japan to pay 15 years cost difference to birth green hydrogen technologies - SolarPACES\n",
      "Budget 2024: Green hydrogen’s allocation rises by whopping 102 per cent - ETEnergyWorld\n",
      "Govt allocates Rs 115 crore for green hydrogen pilot in shipping sector: MNRE - ETEnergyWorld\n",
      "Green Hydrogen Systems wins 8.1-MW electrolyser order in UK - Renewables Now\n",
      "The Hydrogen Stream: Reliance Industries to convert existing 5000 ICE trucks to run on green hydrogen by mid-2024 - pv magazine India\n",
      "The Hydrogen Stream: India's Maharashtra signs MoUs for green hydrogen projects worth over $33.2 billion - pv magazine India\n",
      "New industry-academia collab wants to reduce cost of green hydrogen production - Offshore Energy\n",
      "How is the Adoption of Fuel Cell Technology Shaping the Future of Green Hydrogen in India's Renewable Energy Sector - CXOToday.com\n",
      "MNRE issues guidelines for pilot projects implementing Green Hydrogen in steel sector - CNBCTV18\n",
      "Green Hydrogen - Vale and Hydnum Steel sign MoU to develop iron ore briquette plant at a green steel project in Spain - Hydrogen Central\n",
      "Green hydrogen: Proposals for projects worth ₹2.70 trillion received, says energy minister - Hindustan Times\n",
      "Green Hydrogen Systems signs new order for 8.1 MW electrolyser capacity - Hydrogen Central\n",
      "De Nora enters a project for the construction of one of the largest European water electrolysis plants for the generation ... - Hydrogen Central\n",
      "Green Hydrogen Systems upgrades revenue guidance following 8.1MW electrolyser order - H2 View\n",
      "Fundamentally strong small cap firm enters green hydrogen sector | Mint - Mint\n",
      "India rolls out program to support green hydrogen ship retrofits - Offshore Energy\n",
      "Govt shares guidelines for Green Hydrogen Pilot Projects in steel sector - Moneycontrol\n",
      "Essar unveils blueprint for green economy at India Energy Week - ETEnergyWorld\n",
      "MNRE launches scheme to incentivise production of green hydrogen - Down To Earth Magazine\n",
      "Green Horizon: India's journey to leadership in the Hydrogen Revolution - Forbes India\n",
      "Govt issues pilot project guidelines for Green Hydrogen in Steel Sector - Construction World\n",
      "India - Government issues Pilot Project Guidelines for utilizing Green Hydrogen in Steel Sector - Hydrogen Central\n",
      "Abu Dhabi Department Of Economic Development And HYCAP Group Partner To Drive Green Hydrogen Innovation - SolarQuarter\n",
      "The rising tide of green hydrogen: What it means for safety in logistics and supply chain management - Logistics Middle East\n",
      "Government Allocates Rs 1.15 Bn for Green Hydrogen Pilot - Construction World\n",
      "India Launches Pilot Projects for Green Hydrogen in Maritime Sector under National Mission - SolarQuarter\n",
      "Zaha Hadid Architects designs world's first green hydrogen refueling network for recreational boating - Archinect\n",
      "Support for Ports and Portability to Green Hydrogen - ETAuto\n",
      "Green Hydrogen Revolution in Indian Steel: National Mission Unleashes Promising Pilot Initiatives - SolarQuarter\n",
      "Budget boost for clean energy: Solar allocation soars to ₹8,500 cr; green hydrogen funding doubles - ETEnergyWorld\n",
      "India’s green hydrogen move may worsen pollution if steps are not in place, says study - The Hindu\n",
      "R K Singh meets transport sector to explore ways to utilise green hydrogen - Business Standard\n",
      "Govt launches pilot project on use of green hydrogen in shipping - Moneycontrol\n",
      "MNRE releases guidelines on use of green hydrogen in shipping sector - Business Standard\n",
      "Steel and Port Ministries issue guidelines to incentivise hydrogen usage - BusinessLine\n",
      "Govt greenlights pilot projects for Green Hydrogen in shipping sector - Construction World\n",
      "Scientists are shocked by the discovery of white hydrogen in France: could it be Europe's fuel? - Euronews\n",
      "ANALYSIS | What does EU's new 90% emissions reduction target for 2040 mean for green hydrogen? - Hydrogen Insight\n",
      "MNRE releases guidelines for pilot projects on use of green hydrogen in shipping sector - Press Trust of India\n",
      "Centre offers Rs 115 crore support for retrofitting ships to run on Green Hydrogen - The Economic Times\n",
      "Wood selected as owner's engineer for world-leading green hydrogen project in Spain - Hydrogen Central\n",
      "Steel and port ministries lay out guidelines for hydrogen usage - Manufacturing Today India\n",
      "Spain offers up to €200m in financial support for green hydrogen projects in Mauritania - Hydrogen Insight\n",
      "Commercial production of green hydrogen - The Sentinel Assam\n"
     ]
    }
   ],
   "source": [
    "import feedparser\n",
    "\n",
    "# URL of the Google News RSS feed for green hydrogen\n",
    "url = 'https://news.google.com/rss/search?q=green%20hydrogen&hl=en-IN&gl=IN&ceid=IN:en'\n",
    "\n",
    "# Parse the RSS feed\n",
    "feed = feedparser.parse(url)\n",
    "\n",
    "# Extract and print headlines\n",
    "for entry in feed.entries:\n",
    "    print(entry.title)"
   ]
  },
  {
   "cell_type": "code",
   "execution_count": null,
   "metadata": {},
   "outputs": [],
   "source": [
    "print(response.text)"
   ]
  },
  {
   "cell_type": "code",
   "execution_count": 1,
   "metadata": {},
   "outputs": [
    {
     "name": "stderr",
     "output_type": "stream",
     "text": [
      "C:\\Users\\panch\\AppData\\Local\\Packages\\PythonSoftwareFoundation.Python.3.11_qbz5n2kfra8p0\\LocalCache\\local-packages\\Python311\\site-packages\\tqdm\\auto.py:21: TqdmWarning: IProgress not found. Please update jupyter and ipywidgets. See https://ipywidgets.readthedocs.io/en/stable/user_install.html\n",
      "  from .autonotebook import tqdm as notebook_tqdm\n"
     ]
    },
    {
     "name": "stdout",
     "output_type": "stream",
     "text": [
      "WARNING:tensorflow:From C:\\Users\\panch\\AppData\\Local\\Packages\\PythonSoftwareFoundation.Python.3.11_qbz5n2kfra8p0\\LocalCache\\local-packages\\Python311\\site-packages\\keras\\src\\losses.py:2976: The name tf.losses.sparse_softmax_cross_entropy is deprecated. Please use tf.compat.v1.losses.sparse_softmax_cross_entropy instead.\n",
      "\n"
     ]
    },
    {
     "name": "stderr",
     "output_type": "stream",
     "text": [
      "No model was supplied, defaulted to distilbert-base-uncased-finetuned-sst-2-english and revision af0f99b (https://huggingface.co/distilbert-base-uncased-finetuned-sst-2-english).\n",
      "Using a pipeline without specifying a model name and revision in production is not recommended.\n"
     ]
    }
   ],
   "source": [
    "from transformers import pipeline\n",
    "\n",
    "data = ['Its ordinary', ' Its awesome', 'Its worst', 'Its ok']\n",
    "\n",
    "sentiment_analasis = pipeline('sentiment-analysis')\n"
   ]
  },
  {
   "cell_type": "code",
   "execution_count": 2,
   "metadata": {},
   "outputs": [
    {
     "data": {
      "text/plain": [
       "[{'label': 'POSITIVE', 'score': 0.9823606014251709},\n",
       " {'label': 'POSITIVE', 'score': 0.9998724460601807},\n",
       " {'label': 'NEGATIVE', 'score': 0.9998108744621277},\n",
       " {'label': 'POSITIVE', 'score': 0.9997120499610901}]"
      ]
     },
     "execution_count": 2,
     "metadata": {},
     "output_type": "execute_result"
    }
   ],
   "source": [
    "sentiment_analasis(data)"
   ]
  },
  {
   "cell_type": "code",
   "execution_count": 3,
   "metadata": {},
   "outputs": [],
   "source": [
    "d = [\"dear @verizonsupport your service is straight 💩 in dallas.. been with y'all over a decade and this is all time low for y'all. i'm talking no internet at all.\"\n",
    "     , \"@verizonsupport ive sent you a dm\"\n",
    "     , \"thanks to michelle et al at @verizonsupport who helped push my no-show-phone problem along. order canceled successfully and ordered this for pickup today at the apple store in the mall.\"]\n"
   ]
  },
  {
   "cell_type": "code",
   "execution_count": 4,
   "metadata": {},
   "outputs": [
    {
     "data": {
      "text/plain": [
       "[{'label': 'NEGATIVE', 'score': 0.999332845211029},\n",
       " {'label': 'NEGATIVE', 'score': 0.8754974603652954},\n",
       " {'label': 'POSITIVE', 'score': 0.9789931774139404}]"
      ]
     },
     "execution_count": 4,
     "metadata": {},
     "output_type": "execute_result"
    }
   ],
   "source": [
    "sentiment_analasis(d)"
   ]
  },
  {
   "cell_type": "code",
   "execution_count": 5,
   "metadata": {},
   "outputs": [
    {
     "name": "stderr",
     "output_type": "stream",
     "text": [
      "emoji is not installed, thus not converting emoticons or emojis into text. Install emoji: pip3 install emoji==0.6.0\n"
     ]
    },
    {
     "data": {
      "text/plain": [
       "[{'label': 'NEG', 'score': 0.9707430601119995},\n",
       " {'label': 'NEU', 'score': 0.9231303930282593},\n",
       " {'label': 'POS', 'score': 0.862734854221344}]"
      ]
     },
     "execution_count": 5,
     "metadata": {},
     "output_type": "execute_result"
    }
   ],
   "source": [
    "specific_model = pipeline(model=\"finiteautomata/bertweet-base-sentiment-analysis\")\n",
    "specific_model(d)"
   ]
  },
  {
   "cell_type": "code",
   "execution_count": 6,
   "metadata": {},
   "outputs": [
    {
     "data": {
      "text/plain": [
       "[{'label': 'NEU', 'score': 0.8785017728805542},\n",
       " {'label': 'POS', 'score': 0.9894618391990662},\n",
       " {'label': 'NEG', 'score': 0.9707130193710327},\n",
       " {'label': 'NEU', 'score': 0.6401797533035278}]"
      ]
     },
     "execution_count": 6,
     "metadata": {},
     "output_type": "execute_result"
    }
   ],
   "source": [
    "specific_model(data)"
   ]
  },
  {
   "cell_type": "code",
   "execution_count": null,
   "metadata": {},
   "outputs": [],
   "source": []
  },
  {
   "cell_type": "code",
   "execution_count": null,
   "metadata": {},
   "outputs": [],
   "source": []
  }
 ],
 "metadata": {
  "kernelspec": {
   "display_name": "Python 3",
   "language": "python",
   "name": "python3"
  },
  "language_info": {
   "codemirror_mode": {
    "name": "ipython",
    "version": 3
   },
   "file_extension": ".py",
   "mimetype": "text/x-python",
   "name": "python",
   "nbconvert_exporter": "python",
   "pygments_lexer": "ipython3",
   "version": "3.11.8"
  }
 },
 "nbformat": 4,
 "nbformat_minor": 2
}
